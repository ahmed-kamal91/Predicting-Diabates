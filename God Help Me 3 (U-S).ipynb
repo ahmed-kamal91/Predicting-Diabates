{
 "cells": [
  {
   "cell_type": "markdown",
   "id": "4c620d49",
   "metadata": {},
   "source": [
    " # --------------------------------------Predicting Diabetes-----(^_^)----🧁--👀---------------"
   ]
  },
  {
   "cell_type": "code",
   "execution_count": 62,
   "id": "90703ac5",
   "metadata": {},
   "outputs": [],
   "source": [
    "import pandas as pd\n",
    "import matplotlib.pyplot as plt\n",
    "import numpy as np\n",
    "import seaborn as sns\n",
    "import warnings"
   ]
  },
  {
   "cell_type": "markdown",
   "id": "8d3f5b26",
   "metadata": {},
   "source": [
    "## load the data"
   ]
  },
  {
   "cell_type": "code",
   "execution_count": 63,
   "id": "11ef5261",
   "metadata": {},
   "outputs": [],
   "source": [
    "df = pd.read_csv(\"diabetes.csv\")"
   ]
  },
  {
   "cell_type": "markdown",
   "id": "5de45e13",
   "metadata": {},
   "source": [
    "## EDA (part I)"
   ]
  },
  {
   "cell_type": "code",
   "execution_count": 64,
   "id": "aa215430",
   "metadata": {},
   "outputs": [
    {
     "data": {
      "text/html": [
       "<div>\n",
       "<style scoped>\n",
       "    .dataframe tbody tr th:only-of-type {\n",
       "        vertical-align: middle;\n",
       "    }\n",
       "\n",
       "    .dataframe tbody tr th {\n",
       "        vertical-align: top;\n",
       "    }\n",
       "\n",
       "    .dataframe thead th {\n",
       "        text-align: right;\n",
       "    }\n",
       "</style>\n",
       "<table border=\"1\" class=\"dataframe\">\n",
       "  <thead>\n",
       "    <tr style=\"text-align: right;\">\n",
       "      <th></th>\n",
       "      <th>patient_number</th>\n",
       "      <th>cholesterol</th>\n",
       "      <th>glucose</th>\n",
       "      <th>hdl_chol</th>\n",
       "      <th>chol_hdl_ratio</th>\n",
       "      <th>age</th>\n",
       "      <th>gender</th>\n",
       "      <th>height</th>\n",
       "      <th>weight</th>\n",
       "      <th>bmi</th>\n",
       "      <th>systolic_bp</th>\n",
       "      <th>diastolic_bp</th>\n",
       "      <th>waist</th>\n",
       "      <th>hip</th>\n",
       "      <th>waist_hip_ratio</th>\n",
       "      <th>diabetes</th>\n",
       "    </tr>\n",
       "  </thead>\n",
       "  <tbody>\n",
       "    <tr>\n",
       "      <th>0</th>\n",
       "      <td>1</td>\n",
       "      <td>193</td>\n",
       "      <td>77</td>\n",
       "      <td>49</td>\n",
       "      <td>3,9</td>\n",
       "      <td>19</td>\n",
       "      <td>female</td>\n",
       "      <td>61</td>\n",
       "      <td>119</td>\n",
       "      <td>22,5</td>\n",
       "      <td>118</td>\n",
       "      <td>70</td>\n",
       "      <td>32</td>\n",
       "      <td>38</td>\n",
       "      <td>0,84</td>\n",
       "      <td>No diabetes</td>\n",
       "    </tr>\n",
       "    <tr>\n",
       "      <th>1</th>\n",
       "      <td>2</td>\n",
       "      <td>146</td>\n",
       "      <td>79</td>\n",
       "      <td>41</td>\n",
       "      <td>3,6</td>\n",
       "      <td>19</td>\n",
       "      <td>female</td>\n",
       "      <td>60</td>\n",
       "      <td>135</td>\n",
       "      <td>26,4</td>\n",
       "      <td>108</td>\n",
       "      <td>58</td>\n",
       "      <td>33</td>\n",
       "      <td>40</td>\n",
       "      <td>0,83</td>\n",
       "      <td>No diabetes</td>\n",
       "    </tr>\n",
       "    <tr>\n",
       "      <th>2</th>\n",
       "      <td>3</td>\n",
       "      <td>217</td>\n",
       "      <td>75</td>\n",
       "      <td>54</td>\n",
       "      <td>4</td>\n",
       "      <td>20</td>\n",
       "      <td>female</td>\n",
       "      <td>67</td>\n",
       "      <td>187</td>\n",
       "      <td>29,3</td>\n",
       "      <td>110</td>\n",
       "      <td>72</td>\n",
       "      <td>40</td>\n",
       "      <td>45</td>\n",
       "      <td>0,89</td>\n",
       "      <td>No diabetes</td>\n",
       "    </tr>\n",
       "    <tr>\n",
       "      <th>3</th>\n",
       "      <td>4</td>\n",
       "      <td>226</td>\n",
       "      <td>97</td>\n",
       "      <td>70</td>\n",
       "      <td>3,2</td>\n",
       "      <td>20</td>\n",
       "      <td>female</td>\n",
       "      <td>64</td>\n",
       "      <td>114</td>\n",
       "      <td>19,6</td>\n",
       "      <td>122</td>\n",
       "      <td>64</td>\n",
       "      <td>31</td>\n",
       "      <td>39</td>\n",
       "      <td>0,79</td>\n",
       "      <td>No diabetes</td>\n",
       "    </tr>\n",
       "    <tr>\n",
       "      <th>4</th>\n",
       "      <td>5</td>\n",
       "      <td>164</td>\n",
       "      <td>91</td>\n",
       "      <td>67</td>\n",
       "      <td>2,4</td>\n",
       "      <td>20</td>\n",
       "      <td>female</td>\n",
       "      <td>70</td>\n",
       "      <td>141</td>\n",
       "      <td>20,2</td>\n",
       "      <td>122</td>\n",
       "      <td>86</td>\n",
       "      <td>32</td>\n",
       "      <td>39</td>\n",
       "      <td>0,82</td>\n",
       "      <td>No diabetes</td>\n",
       "    </tr>\n",
       "  </tbody>\n",
       "</table>\n",
       "</div>"
      ],
      "text/plain": [
       "   patient_number  cholesterol  glucose  hdl_chol chol_hdl_ratio  age  gender  \\\n",
       "0               1          193       77        49            3,9   19  female   \n",
       "1               2          146       79        41            3,6   19  female   \n",
       "2               3          217       75        54              4   20  female   \n",
       "3               4          226       97        70            3,2   20  female   \n",
       "4               5          164       91        67            2,4   20  female   \n",
       "\n",
       "   height  weight   bmi  systolic_bp  diastolic_bp  waist  hip  \\\n",
       "0      61     119  22,5          118            70     32   38   \n",
       "1      60     135  26,4          108            58     33   40   \n",
       "2      67     187  29,3          110            72     40   45   \n",
       "3      64     114  19,6          122            64     31   39   \n",
       "4      70     141  20,2          122            86     32   39   \n",
       "\n",
       "  waist_hip_ratio     diabetes  \n",
       "0            0,84  No diabetes  \n",
       "1            0,83  No diabetes  \n",
       "2            0,89  No diabetes  \n",
       "3            0,79  No diabetes  \n",
       "4            0,82  No diabetes  "
      ]
     },
     "execution_count": 64,
     "metadata": {},
     "output_type": "execute_result"
    }
   ],
   "source": [
    "df.head()"
   ]
  },
  {
   "cell_type": "code",
   "execution_count": 65,
   "id": "6a8a0472",
   "metadata": {},
   "outputs": [
    {
     "name": "stdout",
     "output_type": "stream",
     "text": [
      "<class 'pandas.core.frame.DataFrame'>\n",
      "RangeIndex: 390 entries, 0 to 389\n",
      "Data columns (total 16 columns):\n",
      " #   Column           Non-Null Count  Dtype \n",
      "---  ------           --------------  ----- \n",
      " 0   patient_number   390 non-null    int64 \n",
      " 1   cholesterol      390 non-null    int64 \n",
      " 2   glucose          390 non-null    int64 \n",
      " 3   hdl_chol         390 non-null    int64 \n",
      " 4   chol_hdl_ratio   390 non-null    object\n",
      " 5   age              390 non-null    int64 \n",
      " 6   gender           390 non-null    object\n",
      " 7   height           390 non-null    int64 \n",
      " 8   weight           390 non-null    int64 \n",
      " 9   bmi              390 non-null    object\n",
      " 10  systolic_bp      390 non-null    int64 \n",
      " 11  diastolic_bp     390 non-null    int64 \n",
      " 12  waist            390 non-null    int64 \n",
      " 13  hip              390 non-null    int64 \n",
      " 14  waist_hip_ratio  390 non-null    object\n",
      " 15  diabetes         390 non-null    object\n",
      "dtypes: int64(11), object(5)\n",
      "memory usage: 48.9+ KB\n"
     ]
    }
   ],
   "source": [
    "df.info()"
   ]
  },
  {
   "cell_type": "code",
   "execution_count": 66,
   "id": "aaee02e0",
   "metadata": {},
   "outputs": [
    {
     "data": {
      "text/plain": [
       "(390, 16)"
      ]
     },
     "execution_count": 66,
     "metadata": {},
     "output_type": "execute_result"
    }
   ],
   "source": [
    "df.shape"
   ]
  },
  {
   "cell_type": "code",
   "execution_count": 67,
   "id": "a639c96c",
   "metadata": {},
   "outputs": [
    {
     "data": {
      "image/png": "[encoded data removed]",
      "text/plain": [
       "<Figure size 432x288 with 12 Axes>"
      ]
     },
     "metadata": {
      "needs_background": "light"
     },
     "output_type": "display_data"
    }
   ],
   "source": [
    "df.hist(bins = 30, ec = \"white\")\n",
    "plt.grid(True)"
   ]
  },
  {
   "cell_type": "code",
   "execution_count": 68,
   "id": "4cdc8d9b",
   "metadata": {},
   "outputs": [
    {
     "data": {
      "text/html": [
       "<div>\n",
       "<style scoped>\n",
       "    .dataframe tbody tr th:only-of-type {\n",
       "        vertical-align: middle;\n",
       "    }\n",
       "\n",
       "    .dataframe tbody tr th {\n",
       "        vertical-align: top;\n",
       "    }\n",
       "\n",
       "    .dataframe thead th {\n",
       "        text-align: right;\n",
       "    }\n",
       "</style>\n",
       "<table border=\"1\" class=\"dataframe\">\n",
       "  <thead>\n",
       "    <tr style=\"text-align: right;\">\n",
       "      <th></th>\n",
       "      <th>patient_number</th>\n",
       "      <th>cholesterol</th>\n",
       "      <th>glucose</th>\n",
       "      <th>hdl_chol</th>\n",
       "      <th>age</th>\n",
       "      <th>height</th>\n",
       "      <th>weight</th>\n",
       "      <th>systolic_bp</th>\n",
       "      <th>diastolic_bp</th>\n",
       "      <th>waist</th>\n",
       "      <th>hip</th>\n",
       "    </tr>\n",
       "  </thead>\n",
       "  <tbody>\n",
       "    <tr>\n",
       "      <th>count</th>\n",
       "      <td>390.0</td>\n",
       "      <td>390.0</td>\n",
       "      <td>390.0</td>\n",
       "      <td>390.0</td>\n",
       "      <td>390.0</td>\n",
       "      <td>390.0</td>\n",
       "      <td>390.0</td>\n",
       "      <td>390.0</td>\n",
       "      <td>390.0</td>\n",
       "      <td>390.0</td>\n",
       "      <td>390.0</td>\n",
       "    </tr>\n",
       "    <tr>\n",
       "      <th>mean</th>\n",
       "      <td>195.5</td>\n",
       "      <td>207.2</td>\n",
       "      <td>107.3</td>\n",
       "      <td>50.3</td>\n",
       "      <td>46.8</td>\n",
       "      <td>66.0</td>\n",
       "      <td>177.4</td>\n",
       "      <td>137.1</td>\n",
       "      <td>83.3</td>\n",
       "      <td>37.9</td>\n",
       "      <td>43.0</td>\n",
       "    </tr>\n",
       "    <tr>\n",
       "      <th>std</th>\n",
       "      <td>112.7</td>\n",
       "      <td>44.7</td>\n",
       "      <td>53.8</td>\n",
       "      <td>17.3</td>\n",
       "      <td>16.4</td>\n",
       "      <td>3.9</td>\n",
       "      <td>40.4</td>\n",
       "      <td>22.9</td>\n",
       "      <td>13.5</td>\n",
       "      <td>5.8</td>\n",
       "      <td>5.7</td>\n",
       "    </tr>\n",
       "    <tr>\n",
       "      <th>min</th>\n",
       "      <td>1.0</td>\n",
       "      <td>78.0</td>\n",
       "      <td>48.0</td>\n",
       "      <td>12.0</td>\n",
       "      <td>19.0</td>\n",
       "      <td>52.0</td>\n",
       "      <td>99.0</td>\n",
       "      <td>90.0</td>\n",
       "      <td>48.0</td>\n",
       "      <td>26.0</td>\n",
       "      <td>30.0</td>\n",
       "    </tr>\n",
       "    <tr>\n",
       "      <th>25%</th>\n",
       "      <td>98.2</td>\n",
       "      <td>179.0</td>\n",
       "      <td>81.0</td>\n",
       "      <td>38.0</td>\n",
       "      <td>34.0</td>\n",
       "      <td>63.0</td>\n",
       "      <td>150.2</td>\n",
       "      <td>122.0</td>\n",
       "      <td>75.0</td>\n",
       "      <td>33.0</td>\n",
       "      <td>39.0</td>\n",
       "    </tr>\n",
       "    <tr>\n",
       "      <th>50%</th>\n",
       "      <td>195.5</td>\n",
       "      <td>203.0</td>\n",
       "      <td>90.0</td>\n",
       "      <td>46.0</td>\n",
       "      <td>44.5</td>\n",
       "      <td>66.0</td>\n",
       "      <td>173.0</td>\n",
       "      <td>136.0</td>\n",
       "      <td>82.0</td>\n",
       "      <td>37.0</td>\n",
       "      <td>42.0</td>\n",
       "    </tr>\n",
       "    <tr>\n",
       "      <th>75%</th>\n",
       "      <td>292.8</td>\n",
       "      <td>229.0</td>\n",
       "      <td>107.8</td>\n",
       "      <td>59.0</td>\n",
       "      <td>60.0</td>\n",
       "      <td>69.0</td>\n",
       "      <td>200.0</td>\n",
       "      <td>148.0</td>\n",
       "      <td>90.0</td>\n",
       "      <td>41.0</td>\n",
       "      <td>46.0</td>\n",
       "    </tr>\n",
       "    <tr>\n",
       "      <th>max</th>\n",
       "      <td>390.0</td>\n",
       "      <td>443.0</td>\n",
       "      <td>385.0</td>\n",
       "      <td>120.0</td>\n",
       "      <td>92.0</td>\n",
       "      <td>76.0</td>\n",
       "      <td>325.0</td>\n",
       "      <td>250.0</td>\n",
       "      <td>124.0</td>\n",
       "      <td>56.0</td>\n",
       "      <td>64.0</td>\n",
       "    </tr>\n",
       "  </tbody>\n",
       "</table>\n",
       "</div>"
      ],
      "text/plain": [
       "       patient_number  cholesterol  glucose  hdl_chol    age  height  weight  \\\n",
       "count           390.0        390.0    390.0     390.0  390.0   390.0   390.0   \n",
       "mean            195.5        207.2    107.3      50.3   46.8    66.0   177.4   \n",
       "std             112.7         44.7     53.8      17.3   16.4     3.9    40.4   \n",
       "min               1.0         78.0     48.0      12.0   19.0    52.0    99.0   \n",
       "25%              98.2        179.0     81.0      38.0   34.0    63.0   150.2   \n",
       "50%             195.5        203.0     90.0      46.0   44.5    66.0   173.0   \n",
       "75%             292.8        229.0    107.8      59.0   60.0    69.0   200.0   \n",
       "max             390.0        443.0    385.0     120.0   92.0    76.0   325.0   \n",
       "\n",
       "       systolic_bp  diastolic_bp  waist    hip  \n",
       "count        390.0         390.0  390.0  390.0  \n",
       "mean         137.1          83.3   37.9   43.0  \n",
       "std           22.9          13.5    5.8    5.7  \n",
       "min           90.0          48.0   26.0   30.0  \n",
       "25%          122.0          75.0   33.0   39.0  \n",
       "50%          136.0          82.0   37.0   42.0  \n",
       "75%          148.0          90.0   41.0   46.0  \n",
       "max          250.0         124.0   56.0   64.0  "
      ]
     },
     "execution_count": 68,
     "metadata": {},
     "output_type": "execute_result"
    }
   ],
   "source": [
    "df.describe().apply(lambda e: round(e, 1))"
   ]
  },
  {
   "cell_type": "markdown",
   "id": "da87b88a",
   "metadata": {},
   "source": [
    "## Preprocessing"
   ]
  },
  {
   "cell_type": "markdown",
   "id": "51b6a936",
   "metadata": {},
   "source": [
    "transformaing - Cleanning - imputation"
   ]
  },
  {
   "cell_type": "code",
   "execution_count": 69,
   "id": "4531f33a",
   "metadata": {},
   "outputs": [],
   "source": [
    "def str_to_float (col): \n",
    "    new_col = col.str.replace(',', '.').astype(float)\n",
    "    return new_col\n",
    "\n",
    "def str_binary (col, txt):\n",
    "        new_col = col.apply(lambda e: 0 if e == txt else 1)\n",
    "        return new_col"
   ]
  },
  {
   "cell_type": "markdown",
   "id": "b2eef2db",
   "metadata": {},
   "source": [
    "Converting (object) -----> (float)"
   ]
  },
  {
   "cell_type": "code",
   "execution_count": 70,
   "id": "637dc225",
   "metadata": {},
   "outputs": [],
   "source": [
    "df['chol_hdl_ratio'] = str_to_float( df['chol_hdl_ratio'] )\n",
    "\n",
    "df['bmi'] = str_to_float( df['bmi'] )\n",
    "\n",
    "df['waist_hip_ratio'] = str_to_float( df['waist_hip_ratio'] )"
   ]
  },
  {
   "cell_type": "markdown",
   "id": "1d0b6bcb",
   "metadata": {},
   "source": [
    "converting (objects) -----> (Binary) <0, 1> <(Male/Female)...(Diabates/No_Diabates)>"
   ]
  },
  {
   "cell_type": "code",
   "execution_count": 71,
   "id": "0cdc3546",
   "metadata": {},
   "outputs": [],
   "source": [
    "df[\"gender\"] = str_binary(df[\"gender\"], 'female')\n",
    "\n",
    "df['diabetes'] = str_binary(df['diabetes'], 'No diabetes')"
   ]
  },
  {
   "cell_type": "markdown",
   "id": "c2ef46f3",
   "metadata": {},
   "source": [
    "## EDA (part II)"
   ]
  },
  {
   "cell_type": "code",
   "execution_count": 72,
   "id": "4838df46",
   "metadata": {},
   "outputs": [
    {
     "data": {
      "text/plain": [
       "patient_number       int64\n",
       "cholesterol          int64\n",
       "glucose              int64\n",
       "hdl_chol             int64\n",
       "chol_hdl_ratio     float64\n",
       "age                  int64\n",
       "gender               int64\n",
       "height               int64\n",
       "weight               int64\n",
       "bmi                float64\n",
       "systolic_bp          int64\n",
       "diastolic_bp         int64\n",
       "waist                int64\n",
       "hip                  int64\n",
       "waist_hip_ratio    float64\n",
       "diabetes             int64\n",
       "dtype: object"
      ]
     },
     "execution_count": 72,
     "metadata": {},
     "output_type": "execute_result"
    }
   ],
   "source": [
    "df.dtypes"
   ]
  },
  {
   "cell_type": "code",
   "execution_count": 73,
   "id": "58e40330",
   "metadata": {},
   "outputs": [
    {
     "data": {
      "text/plain": [
       "patient_number     0\n",
       "cholesterol        0\n",
       "glucose            0\n",
       "hdl_chol           0\n",
       "chol_hdl_ratio     0\n",
       "age                0\n",
       "gender             0\n",
       "height             0\n",
       "weight             0\n",
       "bmi                0\n",
       "systolic_bp        0\n",
       "diastolic_bp       0\n",
       "waist              0\n",
       "hip                0\n",
       "waist_hip_ratio    0\n",
       "diabetes           0\n",
       "dtype: int64"
      ]
     },
     "execution_count": 73,
     "metadata": {},
     "output_type": "execute_result"
    }
   ],
   "source": [
    "df.isna().sum()"
   ]
  },
  {
   "cell_type": "markdown",
   "id": "433ecb6e",
   "metadata": {},
   "source": [
    "clean_ transformed data"
   ]
  },
  {
   "cell_type": "markdown",
   "id": "acc62d00",
   "metadata": {},
   "source": [
    "### Analyze features and target"
   ]
  },
  {
   "cell_type": "markdown",
   "id": "5145018d",
   "metadata": {},
   "source": [
    "### is it a balanced data ?"
   ]
  },
  {
   "cell_type": "code",
   "execution_count": 74,
   "id": "9e64c503",
   "metadata": {},
   "outputs": [
    {
     "data": {
      "text/plain": [
       "([<matplotlib.patches.Wedge at 0x1b3609e7310>,\n",
       "  <matplotlib.patches.Wedge at 0x1b3609e7a30>],\n",
       " [Text(-0.8899187180267095, 0.6465637441936395, 'NO-Diabetes'),\n",
       "  Text(0.9708204526849543, -0.7053422209456772, 'Diabetes')])"
      ]
     },
     "execution_count": 74,
     "metadata": {},
     "output_type": "execute_result"
    },
    {
     "data": {
      "image/png": "[encoded data removed]",
      "text/plain": [
       "<Figure size 432x288 with 1 Axes>"
      ]
     },
     "metadata": {},
     "output_type": "display_data"
    }
   ],
   "source": [
    "slice= list(round(df['diabetes'].value_counts(normalize = True), 1))\n",
    "label= [\"NO-Diabetes\", \"Diabetes\"]\n",
    "colors = [\"blue\", \"red\"]\n",
    "explode = [0, 0.1]\n",
    "plt.pie(slice, labels = label, colors = colors, explode = explode, shadow = True)"
   ]
  },
  {
   "cell_type": "code",
   "execution_count": 75,
   "id": "2c62d765",
   "metadata": {},
   "outputs": [
    {
     "name": "stdout",
     "output_type": "stream",
     "text": [
      "0    330\n",
      "1     60\n",
      "Name: diabetes, dtype: int64\n"
     ]
    },
    {
     "data": {
      "image/png": "[encoded data removed]",
      "text/plain": [
       "<Figure size 432x288 with 1 Axes>"
      ]
     },
     "metadata": {
      "needs_background": "light"
     },
     "output_type": "display_data"
    }
   ],
   "source": [
    "df['diabetes'].value_counts().plot(kind = 'bar', title = \"Number of Two Classess on the Data\", color = ['blue', 'red'])\n",
    "print(df['diabetes'].value_counts())"
   ]
  },
  {
   "cell_type": "markdown",
   "id": "686ece9e",
   "metadata": {},
   "source": [
    "#### Conclusion:\n",
    "data is unbalanced!\n",
    "\n",
    "so we wanna make it balanced by applying Resampling on it\n",
    "\n",
    "we will Specificly apply under_sampling i don't prefare copies (Over_sampling)\n",
    "\n",
    "and because eda count on ratio we can continue in EDA"
   ]
  },
  {
   "cell_type": "markdown",
   "id": "139fec6a",
   "metadata": {},
   "source": [
    "### what is max ratio of cholesterol?"
   ]
  },
  {
   "cell_type": "code",
   "execution_count": 76,
   "id": "9af0800a",
   "metadata": {},
   "outputs": [
    {
     "data": {
      "text/plain": [
       "443"
      ]
     },
     "execution_count": 76,
     "metadata": {},
     "output_type": "execute_result"
    }
   ],
   "source": [
    "df['cholesterol'].max()"
   ]
  },
  {
   "cell_type": "markdown",
   "id": "66b82ce6",
   "metadata": {},
   "source": [
    "### what is cholestrol for the oldest patient?"
   ]
  },
  {
   "cell_type": "code",
   "execution_count": 77,
   "id": "9bbb036c",
   "metadata": {},
   "outputs": [
    {
     "name": "stdout",
     "output_type": "stream",
     "text": [
      "oldest has : 92\n"
     ]
    },
    {
     "data": {
      "text/plain": [
       "389    165\n",
       "Name: cholesterol, dtype: int64"
      ]
     },
     "execution_count": 77,
     "metadata": {},
     "output_type": "execute_result"
    }
   ],
   "source": [
    "bool_mask = df['age'] == df['age'].max()\n",
    "print(\"oldest has :\",df['age'].max())\n",
    "df[bool_mask]['cholesterol']\n"
   ]
  },
  {
   "cell_type": "markdown",
   "id": "73bf9b3e",
   "metadata": {},
   "source": [
    "#### conclusion:\n",
    "the oldest man (92 years) in the patient don't has the highest measure for cholestrol"
   ]
  },
  {
   "cell_type": "markdown",
   "id": "feafcffa",
   "metadata": {},
   "source": [
    "### So...Who has the max measure of Cholestrol?"
   ]
  },
  {
   "cell_type": "code",
   "execution_count": 78,
   "id": "566cc4f9",
   "metadata": {},
   "outputs": [
    {
     "data": {
      "text/html": [
       "<div>\n",
       "<style scoped>\n",
       "    .dataframe tbody tr th:only-of-type {\n",
       "        vertical-align: middle;\n",
       "    }\n",
       "\n",
       "    .dataframe tbody tr th {\n",
       "        vertical-align: top;\n",
       "    }\n",
       "\n",
       "    .dataframe thead th {\n",
       "        text-align: right;\n",
       "    }\n",
       "</style>\n",
       "<table border=\"1\" class=\"dataframe\">\n",
       "  <thead>\n",
       "    <tr style=\"text-align: right;\">\n",
       "      <th></th>\n",
       "      <th>patient_number</th>\n",
       "      <th>cholesterol</th>\n",
       "      <th>glucose</th>\n",
       "      <th>hdl_chol</th>\n",
       "      <th>chol_hdl_ratio</th>\n",
       "      <th>age</th>\n",
       "      <th>gender</th>\n",
       "      <th>height</th>\n",
       "      <th>weight</th>\n",
       "      <th>bmi</th>\n",
       "      <th>systolic_bp</th>\n",
       "      <th>diastolic_bp</th>\n",
       "      <th>waist</th>\n",
       "      <th>hip</th>\n",
       "      <th>waist_hip_ratio</th>\n",
       "      <th>diabetes</th>\n",
       "    </tr>\n",
       "  </thead>\n",
       "  <tbody>\n",
       "    <tr>\n",
       "      <th>242</th>\n",
       "      <td>243</td>\n",
       "      <td>443</td>\n",
       "      <td>185</td>\n",
       "      <td>23</td>\n",
       "      <td>19.3</td>\n",
       "      <td>51</td>\n",
       "      <td>0</td>\n",
       "      <td>70</td>\n",
       "      <td>235</td>\n",
       "      <td>33.7</td>\n",
       "      <td>158</td>\n",
       "      <td>98</td>\n",
       "      <td>43</td>\n",
       "      <td>48</td>\n",
       "      <td>0.9</td>\n",
       "      <td>1</td>\n",
       "    </tr>\n",
       "  </tbody>\n",
       "</table>\n",
       "</div>"
      ],
      "text/plain": [
       "     patient_number  cholesterol  glucose  hdl_chol  chol_hdl_ratio  age  \\\n",
       "242             243          443      185        23            19.3   51   \n",
       "\n",
       "     gender  height  weight   bmi  systolic_bp  diastolic_bp  waist  hip  \\\n",
       "242       0      70     235  33.7          158            98     43   48   \n",
       "\n",
       "     waist_hip_ratio  diabetes  \n",
       "242              0.9         1  "
      ]
     },
     "execution_count": 78,
     "metadata": {},
     "output_type": "execute_result"
    }
   ],
   "source": [
    "df[ df['cholesterol'] == df['cholesterol'].max() ]"
   ]
  },
  {
   "cell_type": "markdown",
   "id": "b3497d56",
   "metadata": {},
   "source": [
    "answer: woman in 52 years old"
   ]
  },
  {
   "cell_type": "markdown",
   "id": "720bdb56",
   "metadata": {},
   "source": [
    "### the relation between cholestrol measure and Diabateic patient?"
   ]
  },
  {
   "cell_type": "code",
   "execution_count": 79,
   "id": "13e61468",
   "metadata": {},
   "outputs": [
    {
     "data": {
      "image/png": "[encoded data removed]",
      "text/plain": [
       "<Figure size 432x288 with 1 Axes>"
      ]
     },
     "metadata": {
      "needs_background": "light"
     },
     "output_type": "display_data"
    }
   ],
   "source": [
    "yes = df[ df['diabetes'] == 1 ]\n",
    "yes['cholesterol'].hist(bins = 40, ec = \"#746AB0\", color = '#FFCE30')\n",
    "plt.grid(False)"
   ]
  },
  {
   "cell_type": "markdown",
   "id": "09200519",
   "metadata": {},
   "source": [
    "#### Conclusion:\n",
    "most common cholestrol for diabetic patient range from 170 to 250"
   ]
  },
  {
   "cell_type": "markdown",
   "id": "3b737f83",
   "metadata": {},
   "source": [
    "### which gender have the highest glucose measures"
   ]
  },
  {
   "cell_type": "code",
   "execution_count": 80,
   "id": "1f3e36e4",
   "metadata": {},
   "outputs": [
    {
     "data": {
      "text/plain": [
       "gender\n",
       "0    103.109649\n",
       "1    113.290123\n",
       "Name: glucose, dtype: float64"
      ]
     },
     "execution_count": 80,
     "metadata": {},
     "output_type": "execute_result"
    }
   ],
   "source": [
    "df.groupby(\"gender\").mean()['glucose']#---------------------------"
   ]
  },
  {
   "cell_type": "markdown",
   "id": "3c1ad047",
   "metadata": {},
   "source": [
    "### which two classes has more weight with respect to  their tall?"
   ]
  },
  {
   "cell_type": "code",
   "execution_count": 81,
   "id": "fb64944e",
   "metadata": {},
   "outputs": [
    {
     "name": "stdout",
     "output_type": "stream",
     "text": [
      "28.36727272727274\n",
      "31.021666666666682\n"
     ]
    },
    {
     "data": {
      "image/png": "[encoded data removed]",
      "text/plain": [
       "<Figure size 432x288 with 1 Axes>"
      ]
     },
     "metadata": {},
     "output_type": "display_data"
    }
   ],
   "source": [
    "no = df[ df['diabetes'] == 0 ]\n",
    "\n",
    "yes = df[ df['diabetes'] == 1 ]\n",
    "\n",
    "\n",
    "print(no['bmi'].mean())\n",
    "print(yes['bmi'].mean())\n",
    "\n",
    "mask1 = df['diabetes'] == 1\n",
    "d_bmi = round(df[mask1].bmi.mean())\n",
    "\n",
    "mask2 = df['diabetes'] == 0\n",
    "nd_bmi = round(df[mask2].bmi.mean())\n",
    "\n",
    "slice = [d_bmi, nd_bmi]\n",
    "label = [\"diabates\", 'no diabates']\n",
    "color = [\"red\", \"blue\"]\n",
    "explode = [0, 0.1]\n",
    "\n",
    "plt.pie(slice, labels = label,\n",
    "        colors = color,autopct = '%1.1f%%',\n",
    "        startangle = 90,shadow = True,\n",
    "       wedgeprops = {'edgecolor': \"white\"},\n",
    "       explode = explode )\n",
    "plt.show()"
   ]
  },
  {
   "cell_type": "markdown",
   "id": "d5a3c943",
   "metadata": {},
   "source": [
    "### is patient who has diabates are thinner than others?"
   ]
  },
  {
   "cell_type": "code",
   "execution_count": 82,
   "id": "a24ba844",
   "metadata": {},
   "outputs": [
    {
     "data": {
      "text/plain": [
       "diabetes\n",
       "0    175.0\n",
       "1    193.0\n",
       "Name: weight, dtype: float64"
      ]
     },
     "execution_count": 82,
     "metadata": {},
     "output_type": "execute_result"
    }
   ],
   "source": [
    "round(df.groupby(\"diabetes\").mean()['weight'])"
   ]
  },
  {
   "cell_type": "markdown",
   "id": "1a98fc79",
   "metadata": {},
   "source": [
    "### what the average of ages for who have diabates and not?"
   ]
  },
  {
   "cell_type": "code",
   "execution_count": 83,
   "id": "9cbf3636",
   "metadata": {},
   "outputs": [
    {
     "data": {
      "text/plain": [
       "diabetes\n",
       "0    45.0\n",
       "1    58.0\n",
       "Name: age, dtype: float64"
      ]
     },
     "execution_count": 83,
     "metadata": {},
     "output_type": "execute_result"
    }
   ],
   "source": [
    "round(df.groupby(\"diabetes\").mean()['age'])#for ages and diabets"
   ]
  },
  {
   "cell_type": "markdown",
   "id": "e37edd1f",
   "metadata": {},
   "source": [
    "### what is the relation between Age and Diabates ?"
   ]
  },
  {
   "cell_type": "code",
   "execution_count": 84,
   "id": "bce4bfc1",
   "metadata": {},
   "outputs": [
    {
     "data": {
      "image/png": "[encoded data removed]",
      "text/plain": [
       "<Figure size 432x288 with 1 Axes>"
      ]
     },
     "metadata": {
      "needs_background": "light"
     },
     "output_type": "display_data"
    }
   ],
   "source": [
    "plt.scatter(df['diabetes'], df['age'], alpha = 0.5)\n",
    "plt.show()"
   ]
  },
  {
   "cell_type": "code",
   "execution_count": 85,
   "id": "f721445d",
   "metadata": {},
   "outputs": [
    {
     "data": {
      "image/png": "[encoded data removed]",
      "text/plain": [
       "<Figure size 432x288 with 1 Axes>"
      ]
     },
     "metadata": {
      "needs_background": "light"
     },
     "output_type": "display_data"
    }
   ],
   "source": [
    "ages = df[df[\"diabetes\"] == 1]['age']\n",
    "h, bin1, patches = plt.hist(ages, ec = \"white\", color = \"blue\", bins =20)\n",
    "for i in range(0,20):\n",
    "    if (i < 7) :\n",
    "        patches[i].set_fc(\"blue\")\n",
    "    elif i <13 :\n",
    "        patches[i].set_fc(\"#FF5733\")"
   ]
  },
  {
   "cell_type": "markdown",
   "id": "61ba9227",
   "metadata": {},
   "source": [
    "conclusions: \n",
    "\n",
    "    1-the most age people has diabetes is 60\n",
    "    \n",
    "    2-in general people who have diabates its age range from 50 to 65"
   ]
  },
  {
   "cell_type": "markdown",
   "id": "e0b9b88e",
   "metadata": {},
   "source": [
    "### is it worthwhile to make pca on this data with respect to its size "
   ]
  },
  {
   "cell_type": "markdown",
   "id": "df9c2d7c",
   "metadata": {},
   "source": [
    "we will see by getting handdirty on the data\n",
    "\n",
    "Accuracy which will decide"
   ]
  },
  {
   "cell_type": "markdown",
   "id": "2d186fe9",
   "metadata": {},
   "source": [
    "## Feature Selection (PCA Analysis)"
   ]
  },
  {
   "cell_type": "code",
   "execution_count": 86,
   "id": "886d5751",
   "metadata": {},
   "outputs": [],
   "source": [
    "from sklearn.preprocessing import StandardScaler\n",
    "from sklearn.decomposition import PCA"
   ]
  },
  {
   "cell_type": "code",
   "execution_count": 87,
   "id": "34fade9e",
   "metadata": {},
   "outputs": [
    {
     "data": {
      "text/plain": [
       "(390,)"
      ]
     },
     "execution_count": 87,
     "metadata": {},
     "output_type": "execute_result"
    }
   ],
   "source": [
    "X = df.drop('diabetes', axis = 1)\n",
    "y = df['diabetes']\n",
    "y.shape"
   ]
  },
  {
   "cell_type": "code",
   "execution_count": 88,
   "id": "42b2ddd3",
   "metadata": {},
   "outputs": [
    {
     "data": {
      "text/plain": [
       "array([[-1.72761533, -0.31901328, -0.5646553 , ..., -1.02010483,\n",
       "        -0.88248912, -0.5659952 ],\n",
       "       [-1.71873299, -1.37261932, -0.52743157, ..., -0.84629929,\n",
       "        -0.52894956, -0.70275984],\n",
       "       [-1.70985065,  0.21899831, -0.60187902, ...,  0.3703395 ,\n",
       "         0.35489932,  0.117828  ],\n",
       "       ...,\n",
       "       [ 1.70985065,  2.10203888, -0.32270108, ..., -1.19391037,\n",
       "        -0.35217979, -1.66011232],\n",
       "       [ 1.71873299,  0.55525555,  1.42681407, ..., -0.49868821,\n",
       "        -0.88248912,  0.52812192],\n",
       "       [ 1.72761533, -0.94669348, -0.24825362, ...,  2.28220046,\n",
       "         1.41551798,  1.62223904]])"
      ]
     },
     "execution_count": 88,
     "metadata": {},
     "output_type": "execute_result"
    }
   ],
   "source": [
    "scalar = StandardScaler()\n",
    "X_std = scalar.fit_transform(X)\n",
    "X_std"
   ]
  },
  {
   "cell_type": "code",
   "execution_count": 89,
   "id": "ea33f941",
   "metadata": {},
   "outputs": [
    {
     "data": {
      "text/plain": [
       "<AxesSubplot:>"
      ]
     },
     "execution_count": 89,
     "metadata": {},
     "output_type": "execute_result"
    },
    {
     "data": {
      "image/png": "[encoded data removed]",
      "text/plain": [
       "<Figure size 1080x576 with 2 Axes>"
      ]
     },
     "metadata": {
      "needs_background": "light"
     },
     "output_type": "display_data"
    }
   ],
   "source": [
    "corel = df.corr(method = 'pearson').abs()\n",
    "fig = plt.figure(figsize=(15,8))\n",
    "sns.heatmap(corel, annot = True)"
   ]
  },
  {
   "cell_type": "markdown",
   "id": "8b1245da",
   "metadata": {},
   "source": [
    "## EDA (part II)"
   ]
  },
  {
   "cell_type": "markdown",
   "id": "314b2cd7",
   "metadata": {},
   "source": [
    "### how many of componenet are explaining what amount of variance"
   ]
  },
  {
   "cell_type": "code",
   "execution_count": 90,
   "id": "585d6b3a",
   "metadata": {},
   "outputs": [
    {
     "data": {
      "text/plain": [
       "Text(0, 0.5, 'variance')"
      ]
     },
     "execution_count": 90,
     "metadata": {},
     "output_type": "execute_result"
    },
    {
     "data": {
      "image/png": "[encoded data removed]",
      "text/plain": [
       "<Figure size 432x288 with 1 Axes>"
      ]
     },
     "metadata": {
      "needs_background": "light"
     },
     "output_type": "display_data"
    }
   ],
   "source": [
    "pca = PCA().fit(X_std)\n",
    "plt.plot(np.cumsum(pca.explained_variance_ratio_))\n",
    "plt.xlabel('number of Componenet')\n",
    "plt.ylabel('variance')"
   ]
  },
  {
   "cell_type": "code",
   "execution_count": 91,
   "id": "96cae048",
   "metadata": {},
   "outputs": [],
   "source": [
    "pca = PCA(n_components = 8, random_state = 42)"
   ]
  },
  {
   "cell_type": "code",
   "execution_count": 92,
   "id": "a23acd91",
   "metadata": {},
   "outputs": [],
   "source": [
    "x_pca = pca.fit_transform(X_std)"
   ]
  },
  {
   "cell_type": "code",
   "execution_count": 93,
   "id": "aaf10424",
   "metadata": {},
   "outputs": [
    {
     "data": {
      "text/plain": [
       "array([0.27666311, 0.18056501, 0.13935875, 0.10068229, 0.08005678,\n",
       "       0.06627018, 0.05510995, 0.0457768 ])"
      ]
     },
     "execution_count": 93,
     "metadata": {},
     "output_type": "execute_result"
    }
   ],
   "source": [
    "pca.explained_variance_ratio_"
   ]
  },
  {
   "cell_type": "code",
   "execution_count": 94,
   "id": "3a29b3b5",
   "metadata": {},
   "outputs": [
    {
     "data": {
      "text/plain": [
       "Text(0, 0.5, 'second p component')"
      ]
     },
     "execution_count": 94,
     "metadata": {},
     "output_type": "execute_result"
    },
    {
     "data": {
      "image/png": "[encoded data removed]",
      "text/plain": [
       "<Figure size 576x432 with 1 Axes>"
      ]
     },
     "metadata": {
      "needs_background": "light"
     },
     "output_type": "display_data"
    }
   ],
   "source": [
    "plt.figure(figsize = (8 ,6))\n",
    "\n",
    "plt.scatter(x_pca[:, 0], x_pca[:, 1],c = df[\"diabetes\"], cmap= plt.cm.get_cmap('bwr', 10), alpha =0.6 )\n",
    "\n",
    "plt.xlabel(\"first p component\")\n",
    "plt.ylabel(\"second p component\")"
   ]
  },
  {
   "cell_type": "code",
   "execution_count": 95,
   "id": "6922711b",
   "metadata": {},
   "outputs": [
    {
     "name": "stdout",
     "output_type": "stream",
     "text": [
      "(390, 8)\n",
      "(390,)\n"
     ]
    }
   ],
   "source": [
    "PCA_df = pd.DataFrame(x_pca)\n",
    "PCA_df.columns = ['f1', 'f2', 'f3', 'f4', 'f5', 'f6', 'f7', 'f8']\n",
    "print(PCA_df.shape)\n",
    "print(y.shape)"
   ]
  },
  {
   "cell_type": "code",
   "execution_count": 96,
   "id": "eaf9fc15",
   "metadata": {},
   "outputs": [],
   "source": [
    "PCA_df = pd.concat([PCA_df, y], axis=1)"
   ]
  },
  {
   "cell_type": "code",
   "execution_count": 97,
   "id": "f8ad9b2c",
   "metadata": {},
   "outputs": [
    {
     "data": {
      "text/html": [
       "<div>\n",
       "<style scoped>\n",
       "    .dataframe tbody tr th:only-of-type {\n",
       "        vertical-align: middle;\n",
       "    }\n",
       "\n",
       "    .dataframe tbody tr th {\n",
       "        vertical-align: top;\n",
       "    }\n",
       "\n",
       "    .dataframe thead th {\n",
       "        text-align: right;\n",
       "    }\n",
       "</style>\n",
       "<table border=\"1\" class=\"dataframe\">\n",
       "  <thead>\n",
       "    <tr style=\"text-align: right;\">\n",
       "      <th></th>\n",
       "      <th>f1</th>\n",
       "      <th>f2</th>\n",
       "      <th>f3</th>\n",
       "      <th>f4</th>\n",
       "      <th>f5</th>\n",
       "      <th>f6</th>\n",
       "      <th>f7</th>\n",
       "      <th>f8</th>\n",
       "      <th>diabetes</th>\n",
       "    </tr>\n",
       "  </thead>\n",
       "  <tbody>\n",
       "    <tr>\n",
       "      <th>0</th>\n",
       "      <td>-2.972281</td>\n",
       "      <td>1.827874</td>\n",
       "      <td>0.335368</td>\n",
       "      <td>1.085563</td>\n",
       "      <td>0.675167</td>\n",
       "      <td>-0.064193</td>\n",
       "      <td>-0.438704</td>\n",
       "      <td>0.960265</td>\n",
       "      <td>0</td>\n",
       "    </tr>\n",
       "    <tr>\n",
       "      <th>1</th>\n",
       "      <td>-2.668630</td>\n",
       "      <td>2.747383</td>\n",
       "      <td>0.130446</td>\n",
       "      <td>1.673787</td>\n",
       "      <td>-0.429989</td>\n",
       "      <td>-0.631967</td>\n",
       "      <td>-0.279909</td>\n",
       "      <td>0.744258</td>\n",
       "      <td>0</td>\n",
       "    </tr>\n",
       "    <tr>\n",
       "      <th>2</th>\n",
       "      <td>-0.568636</td>\n",
       "      <td>2.544427</td>\n",
       "      <td>-0.539053</td>\n",
       "      <td>0.143815</td>\n",
       "      <td>0.139479</td>\n",
       "      <td>1.122281</td>\n",
       "      <td>-0.460534</td>\n",
       "      <td>0.453367</td>\n",
       "      <td>0</td>\n",
       "    </tr>\n",
       "    <tr>\n",
       "      <th>3</th>\n",
       "      <td>-3.525050</td>\n",
       "      <td>1.484533</td>\n",
       "      <td>0.595290</td>\n",
       "      <td>0.573568</td>\n",
       "      <td>0.620164</td>\n",
       "      <td>1.183772</td>\n",
       "      <td>0.506478</td>\n",
       "      <td>0.483744</td>\n",
       "      <td>0</td>\n",
       "    </tr>\n",
       "    <tr>\n",
       "      <th>4</th>\n",
       "      <td>-3.087761</td>\n",
       "      <td>1.586520</td>\n",
       "      <td>-0.416294</td>\n",
       "      <td>-1.128142</td>\n",
       "      <td>0.341662</td>\n",
       "      <td>0.031628</td>\n",
       "      <td>0.702451</td>\n",
       "      <td>0.588176</td>\n",
       "      <td>0</td>\n",
       "    </tr>\n",
       "  </tbody>\n",
       "</table>\n",
       "</div>"
      ],
      "text/plain": [
       "         f1        f2        f3        f4        f5        f6        f7  \\\n",
       "0 -2.972281  1.827874  0.335368  1.085563  0.675167 -0.064193 -0.438704   \n",
       "1 -2.668630  2.747383  0.130446  1.673787 -0.429989 -0.631967 -0.279909   \n",
       "2 -0.568636  2.544427 -0.539053  0.143815  0.139479  1.122281 -0.460534   \n",
       "3 -3.525050  1.484533  0.595290  0.573568  0.620164  1.183772  0.506478   \n",
       "4 -3.087761  1.586520 -0.416294 -1.128142  0.341662  0.031628  0.702451   \n",
       "\n",
       "         f8  diabetes  \n",
       "0  0.960265         0  \n",
       "1  0.744258         0  \n",
       "2  0.453367         0  \n",
       "3  0.483744         0  \n",
       "4  0.588176         0  "
      ]
     },
     "execution_count": 97,
     "metadata": {},
     "output_type": "execute_result"
    }
   ],
   "source": [
    "PCA_df.head()"
   ]
  },
  {
   "cell_type": "markdown",
   "id": "621dfe42",
   "metadata": {},
   "source": [
    "## Resampling the Data  < underSampling >"
   ]
  },
  {
   "cell_type": "code",
   "execution_count": 98,
   "id": "442a08d9",
   "metadata": {},
   "outputs": [
    {
     "data": {
      "text/plain": [
       "60"
      ]
     },
     "execution_count": 98,
     "metadata": {},
     "output_type": "execute_result"
    }
   ],
   "source": [
    "counts_class_0, counts_class_1 = PCA_df['diabetes'].value_counts() \n",
    "counts_class_1"
   ]
  },
  {
   "cell_type": "code",
   "execution_count": 99,
   "id": "652d6e56",
   "metadata": {},
   "outputs": [
    {
     "data": {
      "text/html": [
       "<div>\n",
       "<style scoped>\n",
       "    .dataframe tbody tr th:only-of-type {\n",
       "        vertical-align: middle;\n",
       "    }\n",
       "\n",
       "    .dataframe tbody tr th {\n",
       "        vertical-align: top;\n",
       "    }\n",
       "\n",
       "    .dataframe thead th {\n",
       "        text-align: right;\n",
       "    }\n",
       "</style>\n",
       "<table border=\"1\" class=\"dataframe\">\n",
       "  <thead>\n",
       "    <tr style=\"text-align: right;\">\n",
       "      <th></th>\n",
       "      <th>f1</th>\n",
       "      <th>f2</th>\n",
       "      <th>f3</th>\n",
       "      <th>f4</th>\n",
       "      <th>f5</th>\n",
       "      <th>f6</th>\n",
       "      <th>f7</th>\n",
       "      <th>f8</th>\n",
       "      <th>diabetes</th>\n",
       "    </tr>\n",
       "  </thead>\n",
       "  <tbody>\n",
       "    <tr>\n",
       "      <th>0</th>\n",
       "      <td>-2.972281</td>\n",
       "      <td>1.827874</td>\n",
       "      <td>0.335368</td>\n",
       "      <td>1.085563</td>\n",
       "      <td>0.675167</td>\n",
       "      <td>-0.064193</td>\n",
       "      <td>-0.438704</td>\n",
       "      <td>0.960265</td>\n",
       "      <td>0</td>\n",
       "    </tr>\n",
       "    <tr>\n",
       "      <th>1</th>\n",
       "      <td>-2.668630</td>\n",
       "      <td>2.747383</td>\n",
       "      <td>0.130446</td>\n",
       "      <td>1.673787</td>\n",
       "      <td>-0.429989</td>\n",
       "      <td>-0.631967</td>\n",
       "      <td>-0.279909</td>\n",
       "      <td>0.744258</td>\n",
       "      <td>0</td>\n",
       "    </tr>\n",
       "    <tr>\n",
       "      <th>2</th>\n",
       "      <td>-0.568636</td>\n",
       "      <td>2.544427</td>\n",
       "      <td>-0.539053</td>\n",
       "      <td>0.143815</td>\n",
       "      <td>0.139479</td>\n",
       "      <td>1.122281</td>\n",
       "      <td>-0.460534</td>\n",
       "      <td>0.453367</td>\n",
       "      <td>0</td>\n",
       "    </tr>\n",
       "    <tr>\n",
       "      <th>3</th>\n",
       "      <td>-3.525050</td>\n",
       "      <td>1.484533</td>\n",
       "      <td>0.595290</td>\n",
       "      <td>0.573568</td>\n",
       "      <td>0.620164</td>\n",
       "      <td>1.183772</td>\n",
       "      <td>0.506478</td>\n",
       "      <td>0.483744</td>\n",
       "      <td>0</td>\n",
       "    </tr>\n",
       "    <tr>\n",
       "      <th>4</th>\n",
       "      <td>-3.087761</td>\n",
       "      <td>1.586520</td>\n",
       "      <td>-0.416294</td>\n",
       "      <td>-1.128142</td>\n",
       "      <td>0.341662</td>\n",
       "      <td>0.031628</td>\n",
       "      <td>0.702451</td>\n",
       "      <td>0.588176</td>\n",
       "      <td>0</td>\n",
       "    </tr>\n",
       "    <tr>\n",
       "      <th>...</th>\n",
       "      <td>...</td>\n",
       "      <td>...</td>\n",
       "      <td>...</td>\n",
       "      <td>...</td>\n",
       "      <td>...</td>\n",
       "      <td>...</td>\n",
       "      <td>...</td>\n",
       "      <td>...</td>\n",
       "      <td>...</td>\n",
       "    </tr>\n",
       "    <tr>\n",
       "      <th>383</th>\n",
       "      <td>1.526823</td>\n",
       "      <td>-2.111731</td>\n",
       "      <td>2.185141</td>\n",
       "      <td>0.171471</td>\n",
       "      <td>-0.249380</td>\n",
       "      <td>-0.546354</td>\n",
       "      <td>-0.640755</td>\n",
       "      <td>-0.766049</td>\n",
       "      <td>0</td>\n",
       "    </tr>\n",
       "    <tr>\n",
       "      <th>384</th>\n",
       "      <td>1.334841</td>\n",
       "      <td>-3.277928</td>\n",
       "      <td>0.215139</td>\n",
       "      <td>0.740171</td>\n",
       "      <td>1.104536</td>\n",
       "      <td>-0.790734</td>\n",
       "      <td>-0.026159</td>\n",
       "      <td>-1.457865</td>\n",
       "      <td>0</td>\n",
       "    </tr>\n",
       "    <tr>\n",
       "      <th>385</th>\n",
       "      <td>-0.250250</td>\n",
       "      <td>-2.475064</td>\n",
       "      <td>2.296211</td>\n",
       "      <td>1.327011</td>\n",
       "      <td>-0.015382</td>\n",
       "      <td>-0.905825</td>\n",
       "      <td>-0.691237</td>\n",
       "      <td>-0.068090</td>\n",
       "      <td>0</td>\n",
       "    </tr>\n",
       "    <tr>\n",
       "      <th>387</th>\n",
       "      <td>-1.594866</td>\n",
       "      <td>-3.877618</td>\n",
       "      <td>4.977781</td>\n",
       "      <td>-1.965082</td>\n",
       "      <td>0.439401</td>\n",
       "      <td>1.370367</td>\n",
       "      <td>0.654316</td>\n",
       "      <td>-1.167628</td>\n",
       "      <td>0</td>\n",
       "    </tr>\n",
       "    <tr>\n",
       "      <th>389</th>\n",
       "      <td>3.123187</td>\n",
       "      <td>-0.947261</td>\n",
       "      <td>2.276972</td>\n",
       "      <td>-1.056370</td>\n",
       "      <td>-3.386298</td>\n",
       "      <td>-0.265474</td>\n",
       "      <td>-1.193673</td>\n",
       "      <td>0.054409</td>\n",
       "      <td>0</td>\n",
       "    </tr>\n",
       "  </tbody>\n",
       "</table>\n",
       "<p>330 rows × 9 columns</p>\n",
       "</div>"
      ],
      "text/plain": [
       "           f1        f2        f3        f4        f5        f6        f7  \\\n",
       "0   -2.972281  1.827874  0.335368  1.085563  0.675167 -0.064193 -0.438704   \n",
       "1   -2.668630  2.747383  0.130446  1.673787 -0.429989 -0.631967 -0.279909   \n",
       "2   -0.568636  2.544427 -0.539053  0.143815  0.139479  1.122281 -0.460534   \n",
       "3   -3.525050  1.484533  0.595290  0.573568  0.620164  1.183772  0.506478   \n",
       "4   -3.087761  1.586520 -0.416294 -1.128142  0.341662  0.031628  0.702451   \n",
       "..        ...       ...       ...       ...       ...       ...       ...   \n",
       "383  1.526823 -2.111731  2.185141  0.171471 -0.249380 -0.546354 -0.640755   \n",
       "384  1.334841 -3.277928  0.215139  0.740171  1.104536 -0.790734 -0.026159   \n",
       "385 -0.250250 -2.475064  2.296211  1.327011 -0.015382 -0.905825 -0.691237   \n",
       "387 -1.594866 -3.877618  4.977781 -1.965082  0.439401  1.370367  0.654316   \n",
       "389  3.123187 -0.947261  2.276972 -1.056370 -3.386298 -0.265474 -1.193673   \n",
       "\n",
       "           f8  diabetes  \n",
       "0    0.960265         0  \n",
       "1    0.744258         0  \n",
       "2    0.453367         0  \n",
       "3    0.483744         0  \n",
       "4    0.588176         0  \n",
       "..        ...       ...  \n",
       "383 -0.766049         0  \n",
       "384 -1.457865         0  \n",
       "385 -0.068090         0  \n",
       "387 -1.167628         0  \n",
       "389  0.054409         0  \n",
       "\n",
       "[330 rows x 9 columns]"
      ]
     },
     "execution_count": 99,
     "metadata": {},
     "output_type": "execute_result"
    }
   ],
   "source": [
    "df_class_0 = PCA_df[PCA_df['diabetes'] == 0]\n",
    "df_class_1 = PCA_df[PCA_df['diabetes'] == 1]\n",
    "df_class_0"
   ]
  },
  {
   "cell_type": "code",
   "execution_count": 100,
   "id": "93e3b909",
   "metadata": {},
   "outputs": [],
   "source": [
    "df_under_class_0 = df_class_0.sample(counts_class_1, random_state = 42)"
   ]
  },
  {
   "cell_type": "code",
   "execution_count": 101,
   "id": "b6de672e",
   "metadata": {},
   "outputs": [],
   "source": [
    "df_under = pd.concat([df_under_class_0, df_class_1], axis = 0)"
   ]
  },
  {
   "cell_type": "code",
   "execution_count": 102,
   "id": "025b997c",
   "metadata": {},
   "outputs": [
    {
     "data": {
      "text/plain": [
       "(120, 9)"
      ]
     },
     "execution_count": 102,
     "metadata": {},
     "output_type": "execute_result"
    }
   ],
   "source": [
    "df_under.shape"
   ]
  },
  {
   "cell_type": "code",
   "execution_count": 103,
   "id": "a9969108",
   "metadata": {},
   "outputs": [
    {
     "name": "stdout",
     "output_type": "stream",
     "text": [
      "Random under-sampling:\n",
      "0    60\n",
      "1    60\n",
      "Name: diabetes, dtype: int64\n"
     ]
    },
    {
     "data": {
      "image/png": "[encoded data removed]",
      "text/plain": [
       "<Figure size 432x288 with 1 Axes>"
      ]
     },
     "metadata": {
      "needs_background": "light"
     },
     "output_type": "display_data"
    }
   ],
   "source": [
    "print('Random under-sampling:')\n",
    "print(df_under['diabetes'].value_counts())\n",
    "\n",
    "df_under['diabetes'].value_counts().plot(kind='bar', title='Count (target)',color = [\"blue\"]);"
   ]
  },
  {
   "cell_type": "markdown",
   "id": "cbd0143c",
   "metadata": {},
   "source": [
    "## Splitting data"
   ]
  },
  {
   "cell_type": "code",
   "execution_count": 104,
   "id": "e30cb680",
   "metadata": {},
   "outputs": [],
   "source": [
    "from sklearn.model_selection import train_test_split"
   ]
  },
  {
   "cell_type": "code",
   "execution_count": 105,
   "id": "b524b71e",
   "metadata": {},
   "outputs": [],
   "source": [
    "trainset, testset = train_test_split(df_under, test_size=0.2, random_state=42)"
   ]
  },
  {
   "cell_type": "code",
   "execution_count": 106,
   "id": "225e7e83",
   "metadata": {},
   "outputs": [],
   "source": [
    "X_train = trainset.drop(['diabetes'],axis=1)\n",
    "y_train = trainset['diabetes']\n",
    "X_test = testset.drop(['diabetes'],axis=1)\n",
    "y_test = testset['diabetes']"
   ]
  },
  {
   "cell_type": "code",
   "execution_count": 107,
   "id": "52017137",
   "metadata": {},
   "outputs": [
    {
     "data": {
      "text/plain": [
       "(96, 8)"
      ]
     },
     "execution_count": 107,
     "metadata": {},
     "output_type": "execute_result"
    }
   ],
   "source": [
    "X_train.shape"
   ]
  },
  {
   "cell_type": "markdown",
   "id": "c397763f",
   "metadata": {},
   "source": [
    "## Training the model"
   ]
  },
  {
   "cell_type": "code",
   "execution_count": 108,
   "id": "a47386b7",
   "metadata": {},
   "outputs": [],
   "source": [
    "from sklearn.linear_model import LogisticRegression\n",
    "from sklearn.metrics import accuracy_score, precision_score,  confusion_matrix, recall_score\n",
    "from sklearn.ensemble import RandomForestClassifier\n",
    "from sklearn.svm import SVC\n",
    "from sklearn import tree"
   ]
  },
  {
   "cell_type": "code",
   "execution_count": 109,
   "id": "addf181a",
   "metadata": {},
   "outputs": [
    {
     "name": "stdout",
     "output_type": "stream",
     "text": [
      "Accuracy =  0.9166666666666666\n"
     ]
    },
    {
     "data": {
      "text/plain": [
       "<AxesSubplot:>"
      ]
     },
     "execution_count": 109,
     "metadata": {},
     "output_type": "execute_result"
    },
    {
     "data": {
      "image/png": "[encoded data removed]",
      "text/plain": [
       "<Figure size 432x288 with 2 Axes>"
      ]
     },
     "metadata": {
      "needs_background": "light"
     },
     "output_type": "display_data"
    }
   ],
   "source": [
    "model = LogisticRegression(solver='sag',max_iter  = 10000 ,random_state=42)#cost function reach to zero\n",
    "\n",
    "model.fit(X_train, y_train)\n",
    "\n",
    "y_pred = model.predict(X_test)\n",
    "\n",
    "#---------------------------------------------------\n",
    "print('Accuracy = ', accuracy_score(y_test, y_pred))\n",
    "#print(\"precision = \", precision_score(y_test, y_pred) )\n",
    "#print(\"recall = \", recall_score(y_test, y_pred) )\n",
    "#---------------------------------------------------\n",
    "conv = confusion_matrix(y_test, y_pred)\n",
    "sns.heatmap(conv, annot = True, annot_kws = {\"size\" : 16})"
   ]
  },
  {
   "cell_type": "code",
   "execution_count": 110,
   "id": "14b9f2be",
   "metadata": {},
   "outputs": [
    {
     "name": "stdout",
     "output_type": "stream",
     "text": [
      "Accuracy =  0.7916666666666666\n"
     ]
    },
    {
     "data": {
      "text/plain": [
       "<AxesSubplot:>"
      ]
     },
     "execution_count": 110,
     "metadata": {},
     "output_type": "execute_result"
    },
    {
     "data": {
      "image/png": "[encoded data removed]",
      "text/plain": [
       "<Figure size 432x288 with 2 Axes>"
      ]
     },
     "metadata": {
      "needs_background": "light"
     },
     "output_type": "display_data"
    }
   ],
   "source": [
    "model = SVC(random_state=42)\n",
    "\n",
    "model.fit(X_train, y_train)\n",
    "\n",
    "y_pred = model.predict(X_test)\n",
    "\n",
    "#---------------------------------------------------\n",
    "print('Accuracy = ', accuracy_score(y_test, y_pred))\n",
    "#print(\"precision = \", precision_score(y_test, y_pred) )\n",
    "#print(\"recall = \", recall_score(y_test, y_pred) )\n",
    "#---------------------------------------------------\n",
    "conv = confusion_matrix(y_test, y_pred)\n",
    "sns.heatmap(conv, annot = True, annot_kws = {\"size\" : 16})"
   ]
  },
  {
   "cell_type": "markdown",
   "id": "26cbfc9a",
   "metadata": {},
   "source": [
    "## Resampled Training  without PCA:"
   ]
  },
  {
   "cell_type": "markdown",
   "id": "19b1a6b9",
   "metadata": {},
   "source": [
    "### Resample again"
   ]
  },
  {
   "cell_type": "code",
   "execution_count": 111,
   "id": "b1964713",
   "metadata": {},
   "outputs": [
    {
     "data": {
      "text/plain": [
       "(120, 16)"
      ]
     },
     "execution_count": 111,
     "metadata": {},
     "output_type": "execute_result"
    }
   ],
   "source": [
    "counts_class_0_new, counts_class_1_new = df['diabetes'].value_counts() \n",
    "df_class_0_new = df[ df['diabetes'] == 0 ]\n",
    "df_class_1_new = df[ df['diabetes'] == 1 ]\n",
    "df_under_class_0_new = df_class_0_new.sample(counts_class_1_new, random_state = 42)\n",
    "df_under_new = pd.concat([df_under_class_0_new, df_class_1_new], axis = 0)\n",
    "df_under_new.shape"
   ]
  },
  {
   "cell_type": "code",
   "execution_count": 112,
   "id": "9b0d5037",
   "metadata": {},
   "outputs": [],
   "source": [
    "df_under_new = df_under_new.drop('patient_number', axis = 1)"
   ]
  },
  {
   "cell_type": "code",
   "execution_count": 113,
   "id": "cc09f4df",
   "metadata": {},
   "outputs": [],
   "source": [
    "trainset, testset = train_test_split(df_under_new, test_size=0.2, random_state=42)"
   ]
  },
  {
   "cell_type": "code",
   "execution_count": 114,
   "id": "8e766cd4",
   "metadata": {},
   "outputs": [],
   "source": [
    "X_train_2 = trainset.drop(['diabetes'],axis=1)\n",
    "y_train_2 = trainset['diabetes']\n",
    "X_test_2 = testset.drop(['diabetes'],axis=1)\n",
    "y_test_2 = testset['diabetes']"
   ]
  },
  {
   "cell_type": "code",
   "execution_count": 115,
   "id": "0848cb0b",
   "metadata": {},
   "outputs": [
    {
     "name": "stdout",
     "output_type": "stream",
     "text": [
      "Accuracy =  0.9166666666666666\n"
     ]
    },
    {
     "data": {
      "text/plain": [
       "<AxesSubplot:>"
      ]
     },
     "execution_count": 115,
     "metadata": {},
     "output_type": "execute_result"
    },
    {
     "data": {
      "image/png": "[encoded data removed]",
      "text/plain": [
       "<Figure size 432x288 with 2 Axes>"
      ]
     },
     "metadata": {
      "needs_background": "light"
     },
     "output_type": "display_data"
    }
   ],
   "source": [
    "model = LogisticRegression(solver='sag',max_iter = 10000 ,random_state=42)\n",
    "\n",
    "model.fit(X_train_2, y_train_2)\n",
    "\n",
    "y_pred_2 = model.predict(X_test_2)\n",
    "\n",
    "#---------------------------------------------------\n",
    "print('Accuracy = ', accuracy_score(y_test_2, y_pred_2))\n",
    "#print(\"precision = \", precision_score(y_test, y_pred) )\n",
    "#print(\"recall = \", recall_score(y_test, y_pred) )\n",
    "#---------------------------------------------------\n",
    "conv = confusion_matrix(y_test_2, y_pred_2)\n",
    "sns.heatmap(conv, annot = True, annot_kws = {\"size\" : 16})"
   ]
  },
  {
   "cell_type": "code",
   "execution_count": 116,
   "id": "88127a88",
   "metadata": {},
   "outputs": [
    {
     "name": "stdout",
     "output_type": "stream",
     "text": [
      "Accuracy =  0.9583333333333334\n"
     ]
    },
    {
     "data": {
      "text/plain": [
       "<AxesSubplot:>"
      ]
     },
     "execution_count": 116,
     "metadata": {},
     "output_type": "execute_result"
    },
    {
     "data": {
      "image/png": "[encoded data removed]",
      "text/plain": [
       "<Figure size 432x288 with 2 Axes>"
      ]
     },
     "metadata": {
      "needs_background": "light"
     },
     "output_type": "display_data"
    }
   ],
   "source": [
    "model = SVC(random_state=42)\n",
    "\n",
    "model.fit(X_train_2, y_train_2)\n",
    "\n",
    "y_pred_2 = model.predict(X_test_2)\n",
    "\n",
    "#---------------------------------------------------\n",
    "print('Accuracy = ', accuracy_score(y_test_2, y_pred_2))\n",
    "\n",
    "#print(\"precision = \", precision_score(y_test, y_pred) )\n",
    "#print(\"recall = \", recall_score(y_test, y_pred) )\n",
    "#---------------------------------------------------\n",
    "conv = confusion_matrix(y_test_2, y_pred_2)\n",
    "sns.heatmap(conv, annot = True, annot_kws = {\"size\" : 16})"
   ]
  },
  {
   "cell_type": "code",
   "execution_count": 117,
   "id": "bc38dd27",
   "metadata": {
    "scrolled": true
   },
   "outputs": [
    {
     "name": "stdout",
     "output_type": "stream",
     "text": [
      "Accuracy =  0.875\n"
     ]
    },
    {
     "data": {
      "text/plain": [
       "<AxesSubplot:>"
      ]
     },
     "execution_count": 117,
     "metadata": {},
     "output_type": "execute_result"
    },
    {
     "data": {
      "image/png": "[encoded data removed]",
      "text/plain": [
       "<Figure size 432x288 with 2 Axes>"
      ]
     },
     "metadata": {
      "needs_background": "light"
     },
     "output_type": "display_data"
    }
   ],
   "source": [
    "model = RandomForestClassifier(random_state=42)\n",
    "\n",
    "model.fit(X_train_2, y_train_2)\n",
    "\n",
    "y_pred_2 = model.predict(X_test_2)\n",
    "\n",
    "#---------------------------------------------------\n",
    "print('Accuracy = ', accuracy_score(y_test_2, y_pred_2))\n",
    "#print(\"precision = \", precision_score(y_test, y_pred) )\n",
    "#print(\"recall = \", recall_score(y_test, y_pred) )\n",
    "#---------------------------------------------------\n",
    "conv = confusion_matrix(y_test_2, y_pred_2)\n",
    "sns.heatmap(conv, annot = True, annot_kws = {\"size\" : 16})"
   ]
  },
  {
   "cell_type": "markdown",
   "id": "29c7ed53",
   "metadata": {},
   "source": [
    "conclusions : \n",
    "    accuracy after applying feature selection:\n",
    "    \n",
    "                                                 1-Logistic Regression: (0.9166666666666666)\n",
    "                                                 2-Support Vector Machine (SVM): (0.7916666666666666)\n",
    "    accuracy without feature selection:\n",
    "    \n",
    "                                                1-Logistic Regression: (0.9166666666666666)\n",
    "                                                2-Support Vector Machine (0.9583333333333334)\n",
    "        "
   ]
  },
  {
   "cell_type": "markdown",
   "id": "542d0b1c",
   "metadata": {},
   "source": [
    "### BEST Accuracy :  SVM (95%) "
   ]
  },
  {
   "cell_type": "code",
   "execution_count": null,
   "id": "9ec020ce",
   "metadata": {},
   "outputs": [],
   "source": []
  }
 ],
 "metadata": {
  "kernelspec": {
   "display_name": "Python 3",
   "language": "python",
   "name": "python3"
  },
  "language_info": {
   "codemirror_mode": {
    "name": "ipython",
    "version": 3
   },
   "file_extension": ".py",
   "mimetype": "text/x-python",
   "name": "python",
   "nbconvert_exporter": "python",
   "pygments_lexer": "ipython3",
   "version": "3.8.8"
  }
 },
 "nbformat": 4,
 "nbformat_minor": 5
}
